{
 "cells": [
  {
   "cell_type": "markdown",
   "metadata": {},
   "source": [
    "## Recommendation Engine using KNN"
   ]
  },
  {
   "cell_type": "code",
   "execution_count": 1,
   "metadata": {
    "collapsed": false,
    "deletable": true,
    "editable": true
   },
   "outputs": [],
   "source": [
    "#adding necessary imports\n",
    "import pandas as pd\n",
    "import matplotlib.pyplot as plt\n",
    "import numpy as np\n",
    "from plotly.offline import plot\n",
    "from plotly.graph_objs import *\n",
    "import datetime\n",
    "from sklearn.metrics.pairwise import pairwise_distances\n",
    "from sklearn.metrics import mean_squared_error\n",
    "from math import sqrt\n",
    "from scipy import stats, linalg"
   ]
  },
  {
   "cell_type": "code",
   "execution_count": 2,
   "metadata": {
    "collapsed": false,
    "deletable": true,
    "editable": true
   },
   "outputs": [],
   "source": [
    "#reading user data, data about ratings and movie info data\n",
    "user = pd.read_csv('data/u.user', delimiter='|', header=None, names=['userid', 'age', 'gender', 'occupation', 'zipcode'])\n",
    "rating_data = pd.read_csv('data/u.data', delimiter='\\t', header=None, names=['userid', 'itemid', 'rating', 'timestamp'])\n",
    "movies = pd.read_csv('data/u.item', delimiter='|', encoding='ISO-8859-1', header=None, usecols=[0, 1, 5, 6, \n",
    "                                                                                                7, 8, 9, 10, \n",
    "                                                                                                11, 12, 13, \n",
    "                                                                                                14, 15, 16, \n",
    "                                                                                                17, 18, 19, 20, \n",
    "                                                                                                21, 22, 23])\n"
   ]
  },
  {
   "cell_type": "markdown",
   "metadata": {},
   "source": [
    "## adding a genre column containing genres for each movie"
   ]
  },
  {
   "cell_type": "code",
   "execution_count": 3,
   "metadata": {
    "collapsed": false,
    "deletable": true,
    "editable": true
   },
   "outputs": [],
   "source": [
    "#changing the column names of movie dataframe\n",
    "movies.columns=['itemid', 'movie', 'unknown', 'Action' , 'Adventure' , 'Animation', \"Children's\",\n",
    "                'Comedy', 'Crime', 'Documentary', 'Drama', 'Fantasy',\n",
    "                'Film-Noir', 'Horror', 'Musical', 'Mystery', 'Romance', 'Sci-Fi', 'Thriller', 'War', 'Western']\n",
    "m = movies['movie']\n",
    "genre_list=[]\n",
    "genre_dict={}\n",
    "genres = movies.columns[2:]      #creating a list of all genres\n",
    "#for each movie creating a list of all it's genres(genre_list)\n",
    "#genre_dict contains movie id as key and it's list of genres as value\n",
    "for i in range(len(movies)):\n",
    "    for g in genres:\n",
    "        if movies.ix[i, :][g] != 0:\n",
    "            genre_list.append(g)\n",
    "                 \n",
    "    genre_dict[i+1] = genre_list\n",
    "    genre_list = []\n",
    "g = pd.DataFrame({'genre': genre_dict})\n",
    "#adding the genre column to the movies dataframe\n",
    "movies = movies.join(g, on='itemid')"
   ]
  },
  {
   "cell_type": "code",
   "execution_count": 4,
   "metadata": {
    "collapsed": true,
    "deletable": true,
    "editable": true
   },
   "outputs": [],
   "source": [
    "#table conatining rating by each user for each movie\n",
    "rating_table = pd.pivot_table(rating_data, columns = 'itemid', index='userid', values='rating')"
   ]
  },
  {
   "cell_type": "code",
   "execution_count": 5,
   "metadata": {
    "collapsed": false,
    "deletable": true,
    "editable": true
   },
   "outputs": [],
   "source": [
    "rating_table=rating_table.fillna(0)\n",
    "mean_rating_users = rating_table.mean(axis = 1)    #series containing avg rating given by each user"
   ]
  },
  {
   "cell_type": "code",
   "execution_count": 6,
   "metadata": {
    "collapsed": true,
    "deletable": true,
    "editable": true
   },
   "outputs": [],
   "source": [
    "n_users = rating_data.userid.unique().size\n",
    "n_items = rating_data.itemid.unique().size\n",
    "#storing the rating data into an array\n",
    "data_matrix = np.zeros((n_users, n_items))\n",
    "for i in rating_data.itertuples():\n",
    "    data_matrix[i[1]-1, i[2]-1] = i[3]"
   ]
  },
  {
   "cell_type": "markdown",
   "metadata": {},
   "source": [
    "## user-user and item-item similarity matrix"
   ]
  },
  {
   "cell_type": "code",
   "execution_count": 7,
   "metadata": {
    "collapsed": false,
    "deletable": true,
    "editable": true
   },
   "outputs": [],
   "source": [
    "user_similarity = 1-pairwise_distances(data_matrix, metric='cosine') #user-user similarity\n",
    "item_similarity = 1-pairwise_distances(data_matrix.T, metric='cosine')  #item-item similarity"
   ]
  },
  {
   "cell_type": "markdown",
   "metadata": {},
   "source": [
    "## finding k-nearest neighbors "
   ]
  },
  {
   "cell_type": "code",
   "execution_count": 8,
   "metadata": {
    "collapsed": true,
    "deletable": true,
    "editable": true
   },
   "outputs": [],
   "source": [
    "def knn(similarity, k):\n",
    "    top_ten_similarity = []\n",
    "    for index, row in enumerate(similarity):\n",
    "        similarity_grouped = list(zip(range(len(row)), row))#list containing similarity with all users for a particular user\n",
    "        top_ten = sorted(similarity_grouped, key=lambda l: l[1], reverse=True)\n",
    "        ids, similarity_score = zip(*top_ten)\n",
    "        top_ten_similarity.append(list(ids[:k+1]))\n",
    "    return np.array(top_ten_similarity)\n"
   ]
  },
  {
   "cell_type": "code",
   "execution_count": 9,
   "metadata": {
    "collapsed": false,
    "deletable": true,
    "editable": true
   },
   "outputs": [],
   "source": [
    "user_k_similar = knn(user_similarity, k=10)\n",
    "item_k_similar = knn(item_similarity, k=10)"
   ]
  },
  {
   "cell_type": "code",
   "execution_count": 14,
   "metadata": {
    "collapsed": true,
    "deletable": true,
    "editable": true
   },
   "outputs": [],
   "source": [
    "a = [i[1:]for i in item_k_similar]#first element will be the user itself so slicing from 1 to end\n",
    "b = [i[1:]for i in user_k_similar]#first element will be the item itself so slicing from 1 to end\n",
    "#creating a dataframe to store similar items/users for each item/user\n",
    "items_similar_df = pd.DataFrame({'itemid':range(len(item_k_similar)),\n",
    "                                 'similar_itemid':a})\n",
    "user_similar_df = pd.DataFrame({'userid':range(len(user_k_similar)),\n",
    "                                 'similar_userid':b})\n"
   ]
  },
  {
   "cell_type": "markdown",
   "metadata": {},
   "source": [
    "## predicting ratings for all the movies user hasn't watched"
   ]
  },
  {
   "cell_type": "code",
   "execution_count": 11,
   "metadata": {
    "collapsed": false
   },
   "outputs": [],
   "source": [
    "def predictions(u, user_data, type):\n",
    "    user_data = user_data.reshape((1, len(user_data)))\n",
    "    u = u-1 #since we are considering indexes\n",
    "    sum1 = 0\n",
    "    sim = 0\n",
    "    pred = np.zeros(user_data.shape)\n",
    "    if type=='user':\n",
    "        for i in range(user_data.shape[1]):\n",
    "            sum1 = 0\n",
    "            sim = 0\n",
    "            if user_data[u, i] == 0:\n",
    "                similar_users = np.array(user_similar_df[user_similar_df.userid == u]['similar_userid'])[0]#array containing similar users\n",
    "                \n",
    "                for v in range(len(similar_users)):\n",
    "                      neigh = similar_users[v]\n",
    "                      similar = user_similarity[u, neigh]#similarity between users and it's neighbors\n",
    "                      sum1 +=  similar * (rating_table.ix[neigh+1, i+1]-mean_rating_users[neigh+1])\n",
    "                      sim += similar\n",
    "                      pred[u, i]=mean_rating_users[u+1]+(sum1/sim)\n",
    "        return pred\n"
   ]
  },
  {
   "cell_type": "markdown",
   "metadata": {},
   "source": [
    "## generating movie predictions for a user"
   ]
  },
  {
   "cell_type": "code",
   "execution_count": 12,
   "metadata": {
    "collapsed": false,
    "deletable": true,
    "editable": true
   },
   "outputs": [],
   "source": [
    "def movie_predictions(userid):\n",
    "    user_data = data_matrix[userid-1, :]  #user_data has rating data for one particular user\n",
    "    prediction_matrix = predictions(userid, user_data, 'user')\n",
    "    movie_predict_user1 = prediction_matrix.nonzero()\n",
    "    movie_genre = []\n",
    "    movieid = movie_predict_user1[1]#movie id's of movies for which we've predicted\n",
    "    rating_predicted = prediction_matrix[0][movieid]\n",
    "    movienames = [movies['itemid'][i] for i in movieid]\n",
    "    moviegenre = [movies['genre'][i] for i in movieid]\n",
    "    #dataframe containing info about predicted movies\n",
    "    prediction_df = pd.DataFrame({'movie':movienames, 'rating_predicted':rating_predicted,\n",
    "                                  'genre': moviegenre}, index = movieid)\n",
    "    #sorting the movies by their ratings\n",
    "    prediction_df.sort_values(by='rating_predicted', ascending=False, inplace=True)\n",
    "    #returning only the top 10 movie recommendations\n",
    "    return prediction_df[:10]\n"
   ]
  },
  {
   "cell_type": "code",
   "execution_count": 13,
   "metadata": {
    "collapsed": false,
    "deletable": true,
    "editable": true
   },
   "outputs": [
    {
     "data": {
      "text/html": [
       "<div>\n",
       "<table border=\"1\" class=\"dataframe\">\n",
       "  <thead>\n",
       "    <tr style=\"text-align: right;\">\n",
       "      <th></th>\n",
       "      <th>genre</th>\n",
       "      <th>movie</th>\n",
       "      <th>rating_predicted</th>\n",
       "    </tr>\n",
       "  </thead>\n",
       "  <tbody>\n",
       "    <tr>\n",
       "      <th>317</th>\n",
       "      <td>[Drama, War]</td>\n",
       "      <td>318</td>\n",
       "      <td>3.951406</td>\n",
       "    </tr>\n",
       "    <tr>\n",
       "      <th>473</th>\n",
       "      <td>[Sci-Fi, War]</td>\n",
       "      <td>474</td>\n",
       "      <td>3.767339</td>\n",
       "    </tr>\n",
       "    <tr>\n",
       "      <th>654</th>\n",
       "      <td>[Adventure, Comedy, Drama]</td>\n",
       "      <td>655</td>\n",
       "      <td>3.558491</td>\n",
       "    </tr>\n",
       "    <tr>\n",
       "      <th>422</th>\n",
       "      <td>[Children's, Drama, Fantasy, Sci-Fi]</td>\n",
       "      <td>423</td>\n",
       "      <td>3.553778</td>\n",
       "    </tr>\n",
       "    <tr>\n",
       "      <th>402</th>\n",
       "      <td>[Action, Adventure, Crime, Drama]</td>\n",
       "      <td>403</td>\n",
       "      <td>3.540861</td>\n",
       "    </tr>\n",
       "    <tr>\n",
       "      <th>356</th>\n",
       "      <td>[Drama]</td>\n",
       "      <td>357</td>\n",
       "      <td>3.532281</td>\n",
       "    </tr>\n",
       "    <tr>\n",
       "      <th>432</th>\n",
       "      <td>[Comedy]</td>\n",
       "      <td>433</td>\n",
       "      <td>3.465950</td>\n",
       "    </tr>\n",
       "    <tr>\n",
       "      <th>384</th>\n",
       "      <td>[Action, Adventure, Comedy, Romance]</td>\n",
       "      <td>385</td>\n",
       "      <td>3.349106</td>\n",
       "    </tr>\n",
       "    <tr>\n",
       "      <th>567</th>\n",
       "      <td>[Action, Romance, Thriller]</td>\n",
       "      <td>568</td>\n",
       "      <td>3.265209</td>\n",
       "    </tr>\n",
       "    <tr>\n",
       "      <th>469</th>\n",
       "      <td>[Western]</td>\n",
       "      <td>470</td>\n",
       "      <td>3.154088</td>\n",
       "    </tr>\n",
       "  </tbody>\n",
       "</table>\n",
       "</div>"
      ],
      "text/plain": [
       "                                    genre  movie  rating_predicted\n",
       "317                          [Drama, War]    318          3.951406\n",
       "473                         [Sci-Fi, War]    474          3.767339\n",
       "654            [Adventure, Comedy, Drama]    655          3.558491\n",
       "422  [Children's, Drama, Fantasy, Sci-Fi]    423          3.553778\n",
       "402     [Action, Adventure, Crime, Drama]    403          3.540861\n",
       "356                               [Drama]    357          3.532281\n",
       "432                              [Comedy]    433          3.465950\n",
       "384  [Action, Adventure, Comedy, Romance]    385          3.349106\n",
       "567           [Action, Romance, Thriller]    568          3.265209\n",
       "469                             [Western]    470          3.154088"
      ]
     },
     "execution_count": 13,
     "metadata": {},
     "output_type": "execute_result"
    }
   ],
   "source": [
    "movie_predictions(1)"
   ]
  }
 ],
 "metadata": {
  "kernelspec": {
   "display_name": "Python 3",
   "language": "python",
   "name": "python3"
  },
  "language_info": {
   "codemirror_mode": {
    "name": "ipython",
    "version": 3
   },
   "file_extension": ".py",
   "mimetype": "text/x-python",
   "name": "python",
   "nbconvert_exporter": "python",
   "pygments_lexer": "ipython3",
   "version": "3.5.2"
  }
 },
 "nbformat": 4,
 "nbformat_minor": 2
}
